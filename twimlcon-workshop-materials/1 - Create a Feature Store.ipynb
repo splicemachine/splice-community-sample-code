{
 "cells": [
  {
   "cell_type": "markdown",
   "metadata": {},
   "source": [
    "<img src=\"Images/Splice_logo.jpeg\" width=\"250\" height=\"200\" align=\"left\" >"
   ]
  },
  {
   "cell_type": "markdown",
   "metadata": {},
   "source": [
    "# Welcome to Splice Machine!\n",
    "## Splice Machine is powered by Spark, so the first step will be to initialize a Spark session. All Spark configuration is done for you here, but can be customized."
   ]
  },
  {
   "cell_type": "code",
   "execution_count": null,
   "metadata": {},
   "outputs": [],
   "source": [
    "#Begin spark session \n",
    "from pyspark.sql import SparkSession\n",
    "spark = SparkSession.builder.getOrCreate()\n",
    "\n",
    "#Create pysplice context. Allows you to create a Spark dataframe using our Native Spark DataSource \n",
    "from splicemachine.spark import PySpliceContext\n",
    "splice = PySpliceContext(spark)\n",
    "\n",
    "#Initialize our Feature Store API\n",
    "from splicemachine.features import FeatureStore\n",
    "from splicemachine.features.constants import FeatureType\n",
    "fs = FeatureStore(splice)\n",
    "\n",
    "#Initialize MLFlow\n",
    "from splicemachine.mlflow_support import *\n",
    "mlflow.register_feature_store(fs)\n",
    "mlflow.register_splice_context(splice)"
   ]
  },
  {
   "cell_type": "markdown",
   "metadata": {},
   "source": [
    "## The next step is to create a schema, twimlcon_fs, in the database to house your Feature Store\n",
    "### This step has already been done for you"
   ]
  },
  {
   "cell_type": "code",
   "execution_count": null,
   "metadata": {},
   "outputs": [],
   "source": [
    "%%sql\n",
    "SELECT schemaname \n",
    "FROM SYS.SYSSCHEMAS;"
   ]
  },
  {
   "cell_type": "markdown",
   "metadata": {},
   "source": [
    "## Next, you need to create a feature set\n",
    "### A feature set coresponds to a data source. The user specifies the name of features inside of the feature set, and metadata associated with those features."
   ]
  },
  {
   "cell_type": "code",
   "execution_count": null,
   "metadata": {},
   "outputs": [],
   "source": [
    "# create customer lifetime metrics feature set\n",
    "fs.create_feature_set(schema_name='twimlcon_fs',table_name='customer_lifetime', primary_keys = {\"CUSTOMERID\":\"INTEGER\"}, desc='Describes customer with aggregates of their lifetime activity.')\n",
    "\n",
    "# add customer lifetime features\n",
    "\n",
    "fs.create_feature(schema_name='twimlcon_fs',table_name='customer_lifetime', name='CUSTOMER_LIFETIME_ACTIVE_DAYS',            desc='Number of distinct days in which customer has placed orders.',           feature_data_type='INTEGER', feature_type=FeatureType.continuous,  tags='{\"Entity\":\"Customer\",\"Calculation\":\"Lifetime\",\"MetricType\":\"Count\",\"UnitOfMeasure\":\"Days\",\"TimeGranularity\":\"Day\"}')\n",
    "fs.create_feature(schema_name='twimlcon_fs',table_name='customer_lifetime', name='CUSTOMER_LIFETIME_QTY',                    desc='Total lifetime number of units purchased.',                              feature_data_type='INTEGER', feature_type=FeatureType.continuous,  tags='{\"Entity\":\"Customer\",\"Calculation\":\"Lifetime\",\"MetricType\":\"Sum\",\"UnitOfMeasure\":\"Items\",\"TimeGranularity\":\"Day\"}')\n",
    "fs.create_feature(schema_name='twimlcon_fs',table_name='customer_lifetime', name='CUSTOMER_LIFETIME_ITEMS_PER_ACTIVE_DAY',   desc='Total lifetime average number of units purchased per active day.',       feature_data_type='DOUBLE',  feature_type=FeatureType.continuous,  tags='{\"Entity\":\"Customer\",\"Calculation\":\"Lifetime\",\"MetricType\":\"Average\",\"UnitOfMeasure\":\"Items\",\"TimeGranularity\":\"Day\"}')\n",
    "fs.create_feature(schema_name='twimlcon_fs',table_name='customer_lifetime', name='CUSTOMER_LIFETIME_REVENUE_PER_ACTIVE_DAY', desc='Total lifetime average revenue per active day.',                         feature_data_type='DOUBLE',  feature_type=FeatureType.continuous,  tags='{\"Entity\":\"Customer\",\"Calculation\":\"Lifetime\",\"MetricType\":\"Average\",\"UnitOfMeasure\":\"Dollars\",\"TimeGranularity\":\"Day\"}')\n",
    "fs.create_feature(schema_name='twimlcon_fs',table_name='customer_lifetime', name='CUSTOMER_LIFETIME_DAYS',                   desc='Length of customer relationship in days.',                               feature_data_type='INTEGER', feature_type=FeatureType.continuous,  tags='{\"Entity\":\"Customer\",\"Calculation\":\"Lifetime\",\"MetricType\":\"Duration\",\"UnitOfMeasure\":\"Days\",\"TimeGranularity\":\"Day\"}')\n",
    "fs.create_feature(schema_name='twimlcon_fs',table_name='customer_lifetime', name='CUSTOMER_DAYS_SINCE_PURCHASE',             desc='Days since customer made a purchase.',                                   feature_data_type='INTEGER', feature_type=FeatureType.continuous,  tags='{\"Entity\":\"Customer\",\"Calculation\":\"Lifetime\",\"MetricType\":\"Duration\",\"UnitOfMeasure\":\"Days\",\"TimeGranularity\":\"Day\"}')\n",
    "fs.create_feature(schema_name='twimlcon_fs',table_name='customer_lifetime', name='CUSTOMER_LIFETIME_VALUE',                  desc='Total revenue over customer lifetime.',                                  feature_data_type='DOUBLE',  feature_type=FeatureType.continuous,  tags='{\"Entity\":\"Customer\",\"Calculation\":\"Lifetime\",\"MetricType\":\"Sum\",\"UnitOfMeasure\":\"Dollars\",\"TimeGranularity\":\"Day\"}')\n",
    "fs.create_feature(schema_name='twimlcon_fs',table_name='customer_lifetime', name='CUSTOMER_START_DATE',                      desc='First invoice date for customer.',                                       feature_data_type='DATE',    feature_type=FeatureType.categorical, tags='{\"Entity\":\"Customer\",\"Calculation\":\"Lifetime\",\"MetricType\":\"Min\",\"UnitOfMeasure\":\"Date\",\"TimeGranularity\":\"Day\"}')\n",
    "\n",
    "fs.deploy_feature_set('twimlcon_fs','customer_lifetime')"
   ]
  },
  {
   "cell_type": "markdown",
   "metadata": {},
   "source": [
    "## When you create a Feature Set, you are creating two empty tables inside of the database that are connected by database triggers and functions"
   ]
  },
  {
   "cell_type": "markdown",
   "metadata": {},
   "source": [
    "<img src=\"Images/FS_tables.png\" width=\"750\"  align=\"left\" >"
   ]
  },
  {
   "cell_type": "markdown",
   "metadata": {},
   "source": [
    "### These tables are:\n",
    "- #### Feature table\n",
    "- #### Feature History table"
   ]
  },
  {
   "cell_type": "markdown",
   "metadata": {},
   "source": [
    "## Now you can add data to these tables. \n",
    "### First, add data to the feature table"
   ]
  },
  {
   "cell_type": "code",
   "execution_count": null,
   "metadata": {},
   "outputs": [],
   "source": [
    "%%sql\n",
    "TRUNCATE TABLE twimlcon_fs.customer_lifetime;\n",
    "INSERT INTO twimlcon_fs.customer_lifetime\n",
    "( CUSTOMERID, LAST_UPDATE_TS, CUSTOMER_LIFETIME_ACTIVE_DAYS,CUSTOMER_LIFETIME_QTY,\n",
    "   CUSTOMER_LIFETIME_ITEMS_PER_ACTIVE_DAY,CUSTOMER_LIFETIME_REVENUE_PER_ACTIVE_DAY,\n",
    " CUSTOMER_LIFETIME_DAYS,CUSTOMER_DAYS_SINCE_PURCHASE, CUSTOMER_LIFETIME_VALUE,\n",
    " CUSTOMER_START_DATE)\n",
    "SELECT CUSTOMERID, CAST(MAX(INVOICEDATE) AS TIMESTAMP) LAST_UPDATE_TS, -- use most recent event time for LAST_UPDATE_TS\n",
    "    count(*) ACTIVE_DAYS, \n",
    "    sum(TOTAL_QTY) LIFETIME_QTY, \n",
    "    sum(TOTAL_QTY)*1.0/count(*) LIFETIME_ITEMS_PER_ACTIVE_DAY, \n",
    "    sum(TOTAL_REVENUE)*1.0/count(*) LIFETIME_REVENUE_PER_ACTIVE_DAY, \n",
    "    CURRENT_DATE - min(invoicedate) LIFETIME_DAYS, \n",
    "    CURRENT_DATE - max(invoicedate) DAYS_SINCE_PURCHASE,\n",
    "    sum(TOTAL_REVENUE) LIFETIME_VALUE,\n",
    "    min(invoicedate) CUSTOMER_START_DATE\n",
    "FROM RETAIL_RFM.CUSTOMER_CATEGORY_ACTIVITY group by 1;"
   ]
  },
  {
   "cell_type": "markdown",
   "metadata": {},
   "source": [
    "### Next, backfill the history table "
   ]
  },
  {
   "cell_type": "code",
   "execution_count": null,
   "metadata": {},
   "outputs": [],
   "source": [
    "%%sql\n",
    "TRUNCATE TABLE twimlcon_fs.customer_lifetime_history;\n",
    "\n",
    "-- backfill load of history values for customer lifetime features\n",
    "INSERT INTO twimlcon_fs.customer_lifetime_history\n",
    "( CUSTOMERID, ASOF_TS, UNTIL_TS, CUSTOMER_LIFETIME_ACTIVE_DAYS,CUSTOMER_LIFETIME_QTY,\n",
    "  CUSTOMER_LIFETIME_ITEMS_PER_ACTIVE_DAY,CUSTOMER_LIFETIME_REVENUE_PER_ACTIVE_DAY,\n",
    "  CUSTOMER_LIFETIME_DAYS,CUSTOMER_DAYS_SINCE_PURCHASE, \n",
    "  CUSTOMER_LIFETIME_VALUE, CUSTOMER_START_DATE)\n",
    "\n",
    "SELECT * \n",
    "FROM\n",
    "(\n",
    "    SELECT CUSTOMERID, \n",
    "           CAST(THEDATE AS TIMESTAMP) ASOF_TS, \n",
    "           CAST(LAST_VALUE(THEDATE) OVER ( PARTITION BY CUSTOMERID ORDER BY THEDATE ROWS BETWEEN 1 FOLLOWING AND 1 FOLLOWING) AS TIMESTAMP) UNTIL_TS,\n",
    "            ACTIVE_DAYS, LIFETIME_QTY, LIFETIME_ITEMS_PER_ACTIVE_DAY,LIFETIME_REVENUE_PER_ACTIVE_DAY,\n",
    "            CUSTOMER_LIFETIME_DAYS, CUSTOMER_DAYS_SINCE_PURCHASE, LIFETIME_VALUE, LIFETIME_MIN_DATE\n",
    "    FROM\n",
    "    (\n",
    "        SELECT x.CUSTOMERID, c.TheDate, ACTIVE_DAYS, LIFETIME_QTY, LIFETIME_ITEMS_PER_ACTIVE_DAY,LIFETIME_REVENUE_PER_ACTIVE_DAY, LIFETIME_VALUE,\n",
    "               c.TheDate - LIFETIME_MIN_DATE as CUSTOMER_LIFETIME_DAYS, c.TheDate - LIFETIME_MAX_DATE as CUSTOMER_DAYS_SINCE_PURCHASE,\n",
    "               LIFETIME_MIN_DATE\n",
    "        FROM\n",
    "            RETAIL_RFM.CALENDAR c \n",
    "        INNER JOIN\n",
    "            (\n",
    "                SELECT \n",
    "                    CUSTOMERID,\n",
    "                    INVOICEDATE,\n",
    "                    LAST_VALUE(INVOICEDATE) OVER (PARTITION BY CUSTOMERID ORDER BY INVOICEDATE ROWS BETWEEN 1 FOLLOWING AND 1 FOLLOWING) NEXT_INVOICEDATE,\n",
    "                    count(*) OVER (PARTITION BY CUSTOMERID ORDER BY INVOICEDATE ROWS BETWEEN UNBOUNDED PRECEDING AND CURRENT ROW) ACTIVE_DAYS, \n",
    "                    sum(TOTAL_QTY) OVER (PARTITION BY CUSTOMERID ORDER BY INVOICEDATE ROWS BETWEEN UNBOUNDED PRECEDING AND CURRENT ROW)  LIFETIME_QTY, \n",
    "                    (sum(TOTAL_QTY) OVER (PARTITION BY CUSTOMERID ORDER BY INVOICEDATE ROWS BETWEEN UNBOUNDED PRECEDING AND CURRENT ROW)) *1.0/count(*)  OVER (PARTITION BY CUSTOMERID ORDER BY INVOICEDATE ROWS BETWEEN UNBOUNDED PRECEDING AND CURRENT ROW) LIFETIME_ITEMS_PER_ACTIVE_DAY, \n",
    "                    (sum(TOTAL_REVENUE)  OVER (PARTITION BY CUSTOMERID ORDER BY INVOICEDATE ROWS BETWEEN UNBOUNDED PRECEDING AND CURRENT ROW)) *1.0/count(*)  OVER (PARTITION BY CUSTOMERID ORDER BY INVOICEDATE ROWS BETWEEN UNBOUNDED PRECEDING AND CURRENT ROW) LIFETIME_REVENUE_PER_ACTIVE_DAY, \n",
    "                    min(invoicedate)  OVER (PARTITION BY CUSTOMERID ORDER BY INVOICEDATE ROWS BETWEEN UNBOUNDED PRECEDING AND CURRENT ROW) LIFETIME_MIN_DATE, \n",
    "                    max(invoicedate)  OVER (PARTITION BY CUSTOMERID ORDER BY INVOICEDATE ROWS BETWEEN UNBOUNDED PRECEDING AND CURRENT ROW) LIFETIME_MAX_DATE,\n",
    "                    sum(TOTAL_REVENUE)  OVER (PARTITION BY CUSTOMERID ORDER BY INVOICEDATE ROWS BETWEEN UNBOUNDED PRECEDING AND CURRENT ROW) LIFETIME_VALUE\n",
    "                FROM RETAIL_RFM.CUSTOMER_CATEGORY_ACTIVITY a --splice-properties splits=50\n",
    "            )x\n",
    "            ON c.TheDate BETWEEN x.INVOICEDATE AND x.NEXT_INVOICEDATE-1\n",
    "    )x \n",
    ")y --splice-properties useSpark=true\n",
    "WHERE UNTIL_TS IS NOT NULL\n",
    ";\n",
    "                     \n",
    "--gather DB statistics\n",
    "ANALYZE SCHEMA TWIMLCON_FS;"
   ]
  },
  {
   "cell_type": "markdown",
   "metadata": {},
   "source": [
    "## Take a look at the Feature Store you just created"
   ]
  },
  {
   "cell_type": "code",
   "execution_count": null,
   "metadata": {},
   "outputs": [],
   "source": [
    "%%sql\n",
    "SELECT * \n",
    "FROM TWIMLCON_FS.CUSTOMER_LIFETIME\n",
    "WHERE CUSTOMERID=12346;\n",
    "\n",
    "SELECT * \n",
    "FROM TWIMLCON_FS.CUSTOMER_LIFETIME_HISTORY \n",
    "WHERE CUSTOMERID=12346 \n",
    "ORDER BY ASOF_TS DESC \n",
    "{LIMIT 2};\n"
   ]
  },
  {
   "cell_type": "markdown",
   "metadata": {},
   "source": [
    "# Now we have a fully functioning Feature Store!\n",
    "- #### New data can be added directly to the feature table. As new data is added, old features will automatically move to the historical feature table."
   ]
  },
  {
   "cell_type": "markdown",
   "metadata": {},
   "source": [
    "## Update a value inside of the Feature Store"
   ]
  },
  {
   "cell_type": "code",
   "execution_count": null,
   "metadata": {},
   "outputs": [],
   "source": [
    "%%sql\n",
    "UPDATE TWIMLCON_FS.CUSTOMER_LIFETIME \n",
    "SET CUSTOMER_LIFETIME_ACTIVE_DAYS=11, \n",
    "LAST_UPDATE_TS = CURRENT_TIMESTAMP\n",
    "WHERE CUSTOMERID=12346;"
   ]
  },
  {
   "cell_type": "markdown",
   "metadata": {},
   "source": [
    "## Look at the new feature table and history table after the change"
   ]
  },
  {
   "cell_type": "code",
   "execution_count": null,
   "metadata": {},
   "outputs": [],
   "source": [
    "%%sql\n",
    "SELECT * \n",
    "FROM TWIMLCON_FS.CUSTOMER_LIFETIME\n",
    "WHERE CUSTOMERID=12346;\n",
    "\n",
    "SELECT * \n",
    "FROM TWIMLCON_FS.CUSTOMER_LIFETIME_HISTORY \n",
    "WHERE CUSTOMERID=12346 \n",
    "ORDER BY ASOF_TS DESC \n",
    "{LIMIT 3};"
   ]
  },
  {
   "cell_type": "code",
   "execution_count": null,
   "metadata": {},
   "outputs": [],
   "source": [
    "spark.stop()"
   ]
  }
 ],
 "metadata": {
  "kernelspec": {
   "display_name": "Python 3",
   "language": "python",
   "name": "python3"
  },
  "language_info": {
   "codemirror_mode": {
    "name": "ipython",
    "version": 3
   },
   "file_extension": ".py",
   "mimetype": "text/x-python",
   "name": "python",
   "nbconvert_exporter": "python",
   "pygments_lexer": "ipython3",
   "version": "3.7.7"
  },
  "toc": {
   "base_numbering": 1,
   "nav_menu": {},
   "number_sections": false,
   "sideBar": false,
   "skip_h1_title": false,
   "title_cell": "Table of Contents",
   "title_sidebar": "Contents",
   "toc_cell": false,
   "toc_position": {},
   "toc_section_display": false,
   "toc_window_display": false
  }
 },
 "nbformat": 4,
 "nbformat_minor": 4
}
