{
 "cells": [
  {
   "cell_type": "markdown",
   "metadata": {},
   "source": [
    "<img src=\"Images/Splice_logo.jpeg\" width=\"250\" height=\"200\" align=\"left\" >"
   ]
  },
  {
   "cell_type": "markdown",
   "metadata": {},
   "source": [
    "# Using the Feature Store, and Database Deployment, for model deployment"
   ]
  },
  {
   "cell_type": "code",
   "execution_count": null,
   "metadata": {},
   "outputs": [],
   "source": [
    "#Begin spark session \n",
    "from pyspark.sql import SparkSession\n",
    "spark = SparkSession.builder.getOrCreate()\n",
    "\n",
    "#Create pysplice context. Allows you to create a Spark dataframe using our Native Spark DataSource \n",
    "from splicemachine.spark import PySpliceContext\n",
    "splice = PySpliceContext(spark)\n",
    "\n",
    "#Initialize our Feature Store API\n",
    "from splicemachine.features import FeatureStore\n",
    "from splicemachine.features.constants import FeatureType\n",
    "fs = FeatureStore(splice)\n",
    "\n",
    "#Initialize MLFlow\n",
    "from splicemachine.mlflow_support import *\n",
    "mlflow.register_feature_store(fs)\n",
    "mlflow.register_splice_context(splice)"
   ]
  },
  {
   "cell_type": "markdown",
   "metadata": {},
   "source": [
    "# Deploy Machine Learning model as a table in the database "
   ]
  },
  {
   "cell_type": "markdown",
   "metadata": {},
   "source": [
    "<img src=\"Images/database_deployment.png\" width=\"1000\" align=\"left\" >"
   ]
  },
  {
   "cell_type": "markdown",
   "metadata": {},
   "source": [
    "## Benefits of Database Model Deployment\n",
    "- ### Fast\n",
    "- ### Easly to deploy and govern\n",
    "- ### Integreates with our Feature Store"
   ]
  },
  {
   "cell_type": "code",
   "execution_count": null,
   "metadata": {},
   "outputs": [],
   "source": [
    "from splicemachine.notebook import get_mlflow_ui\n",
    "get_mlflow_ui()"
   ]
  },
  {
   "cell_type": "markdown",
   "metadata": {},
   "source": [
    "## Create the deployment table"
   ]
  },
  {
   "cell_type": "code",
   "execution_count": null,
   "metadata": {},
   "outputs": [],
   "source": [
    "# Load in most relevant features generated in the previous notebook\n",
    "%store -r features_list\n",
    "%store -r features_str"
   ]
  },
  {
   "cell_type": "code",
   "execution_count": null,
   "metadata": {},
   "outputs": [],
   "source": [
    "%%sql\n",
    "-- Create schema and drop table, if necessary\n",
    "CREATE SCHEMA IF NOT EXISTS deployed_models;\n",
    "DROP TABLE IF EXISTS deployed_models.twimlcon_regression;\n"
   ]
  },
  {
   "cell_type": "code",
   "execution_count": null,
   "metadata": {},
   "outputs": [],
   "source": [
    "\n",
    "#Define the training data frame. Necessary so the model table knows what columns to make\n",
    "training_df = fs.get_training_set_from_view('twimlcon_customer_lifetime_value').dropna() \n",
    "\n",
    "#create the table itself\n",
    "jobid = mlflow.deploy_db( db_schema_name='deployed_models',db_table_name='twimlcon_regression', run_id= '<replace with your run id>', \n",
    "                          primary_key={'CUSTOMERID':'INTEGER','EVAL_TIME':'TIMESTAMP'}, \n",
    "                          df=training_df.select(features_list)\n",
    "                        )\n",
    "#watch the table creation logs\n",
    "mlflow.watch_job(jobid)"
   ]
  },
  {
   "cell_type": "markdown",
   "metadata": {},
   "source": [
    "## Insert data into this empty table using the Feature Store\n",
    "<img src=\"Images/FS_tables.png\" width=\"800\" height=\"400\" align=\"left\" >"
   ]
  },
  {
   "cell_type": "markdown",
   "metadata": {},
   "source": [
    "### Get most up to date Feature Values in milliseconds"
   ]
  },
  {
   "cell_type": "markdown",
   "metadata": {},
   "source": [
    "#### Return features as a Spark dataframe"
   ]
  },
  {
   "cell_type": "code",
   "execution_count": null,
   "metadata": {},
   "outputs": [],
   "source": [
    "feature_vector = fs.get_feature_vector(features=features_list, join_key_values={'customerid':'14235'})\n",
    "feature_vector"
   ]
  },
  {
   "cell_type": "markdown",
   "metadata": {},
   "source": [
    "#### Return features using SQL"
   ]
  },
  {
   "cell_type": "code",
   "execution_count": null,
   "metadata": {},
   "outputs": [],
   "source": [
    "feature_vector_sql = fs.get_feature_vector(features=features_list, return_sql=True, join_key_values={'customerid':'14235'})\n",
    "print(feature_vector_sql)"
   ]
  },
  {
   "cell_type": "code",
   "execution_count": null,
   "metadata": {},
   "outputs": [],
   "source": [
    "%%time\n",
    "%%sql\n",
    "{Insert SQL from previous cell here}"
   ]
  },
  {
   "cell_type": "markdown",
   "metadata": {},
   "source": [
    "### Generate and retreive predictions using INSERT/SELECT sequence on a single row"
   ]
  },
  {
   "cell_type": "code",
   "execution_count": null,
   "metadata": {},
   "outputs": [],
   "source": [
    "%%sql\n",
    "truncate table deployed_models.twimlcon_regression;"
   ]
  },
  {
   "cell_type": "code",
   "execution_count": null,
   "metadata": {},
   "outputs": [],
   "source": [
    "%%time\n",
    "splice.execute(f\"\"\"\n",
    "    INSERT INTO deployed_models.twimlcon_regression ( CUSTOMERID, {features_str} ) \n",
    "\n",
    "    SELECT fset2.CUSTOMERID, {features_str}\n",
    "    FROM twimlcon_fs.customer_lifetime fset2,\n",
    "         twimlcon_fs.customer_rfm_by_category fset1 \n",
    "    WHERE fset2.CUSTOMERID = 15838 AND fset1.CUSTOMERID = 15838\n",
    "\n",
    "    union all\n",
    "\n",
    "    SELECT fset2.CUSTOMERID, {features_str}\n",
    "    FROM twimlcon_fs.customer_lifetime fset2,\n",
    "         twimlcon_fs.customer_rfm_by_category fset1 \n",
    "    WHERE fset2.CUSTOMERID = 15839 AND fset1.CUSTOMERID = 15839\"\"\")"
   ]
  },
  {
   "cell_type": "code",
   "execution_count": null,
   "metadata": {},
   "outputs": [],
   "source": [
    "%%sql\n",
    "SELECT * FROM deployed_models.twimlcon_regression;"
   ]
  },
  {
   "cell_type": "markdown",
   "metadata": {},
   "source": [
    "### Generate and retreive predictions using INSERT/SELECT sequence on a multiple rows\n",
    "#### This process will take about a minute given that this is a small cluster, it scales in performance with scale of the cluster."
   ]
  },
  {
   "cell_type": "code",
   "execution_count": null,
   "metadata": {},
   "outputs": [],
   "source": [
    "%%sql\n",
    "truncate table deployed_models.twimlcon_regression;"
   ]
  },
  {
   "cell_type": "code",
   "execution_count": null,
   "metadata": {},
   "outputs": [],
   "source": [
    "%%time\n",
    "splice.execute(f\"\"\"\n",
    "    INSERT INTO deployed_models.twimlcon_regression ( EVAL_TIME, CUSTOMERID, {features_str} )  --splice-properties useSpark=False\n",
    "\n",
    "    SELECT fset2.ASOF_TS, fset2.CUSTOMERID, {features_str}\n",
    "    FROM twimlcon_fs.customer_lifetime_history fset2,\n",
    "         twimlcon_fs.customer_rfm_by_category_history fset1 \n",
    "    WHERE fset2.CUSTOMERID = fset1.CUSTOMERID \n",
    "          AND fset2.ASOF_TS >=fset1.ASOF_TS AND fset2.ASOF_TS<fset1.UNTIL_TS\n",
    "          AND fset2.ASOF_TS BETWEEN '2020-10-01' and '2020-12-31'\n",
    "\"\"\")\n"
   ]
  },
  {
   "cell_type": "code",
   "execution_count": null,
   "metadata": {},
   "outputs": [],
   "source": [
    "%%sql\n",
    "SELECT * FROM deployed_models.twimlcon_regression ORDER BY EVAL_TIME {limit 10};"
   ]
  },
  {
   "cell_type": "code",
   "execution_count": null,
   "metadata": {},
   "outputs": [],
   "source": [
    "spark.stop()"
   ]
  }
 ],
 "metadata": {
  "kernelspec": {
   "display_name": "Python 3",
   "language": "python",
   "name": "python3"
  },
  "language_info": {
   "codemirror_mode": {
    "name": "ipython",
    "version": 3
   },
   "file_extension": ".py",
   "mimetype": "text/x-python",
   "name": "python",
   "nbconvert_exporter": "python",
   "pygments_lexer": "ipython3",
   "version": "3.7.7"
  },
  "toc": {
   "base_numbering": 1,
   "nav_menu": {},
   "number_sections": false,
   "sideBar": false,
   "skip_h1_title": false,
   "title_cell": "Table of Contents",
   "title_sidebar": "Contents",
   "toc_cell": false,
   "toc_position": {},
   "toc_section_display": false,
   "toc_window_display": false
  }
 },
 "nbformat": 4,
 "nbformat_minor": 4
}
